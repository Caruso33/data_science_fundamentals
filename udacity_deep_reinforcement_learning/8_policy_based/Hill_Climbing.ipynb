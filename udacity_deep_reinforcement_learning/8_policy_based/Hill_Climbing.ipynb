{
 "cells": [
  {
   "cell_type": "markdown",
   "source": [
    "# Hill Climbing\n",
    "\n",
    "---\n",
    "\n",
    "In this notebook, we will train hill climbing with adaptive noise scaling with OpenAI Gym's Cartpole environment."
   ],
   "metadata": {}
  },
  {
   "cell_type": "markdown",
   "source": [
    "### 1. Import the Necessary Packages"
   ],
   "metadata": {}
  },
  {
   "cell_type": "code",
   "execution_count": 1,
   "source": [
    "import gym\r\n",
    "import numpy as np\r\n",
    "from collections import deque\r\n",
    "import matplotlib.pyplot as plt\r\n",
    "%matplotlib inline"
   ],
   "outputs": [],
   "metadata": {}
  },
  {
   "cell_type": "markdown",
   "source": [
    "### 2. Define the Policy"
   ],
   "metadata": {}
  },
  {
   "cell_type": "code",
   "execution_count": 2,
   "source": [
    "env = gym.make('CartPole-v0')\r\n",
    "print('observation space:', env.observation_space)\r\n",
    "print('action space:', env.action_space)\r\n",
    "\r\n",
    "class Policy():\r\n",
    "    def __init__(self, s_size=4, a_size=2):\r\n",
    "        self.w = 1e-4*np.random.rand(s_size, a_size)  # weights for simple linear policy: state_space x action_space\r\n",
    "        \r\n",
    "    def forward(self, state):\r\n",
    "        x = np.dot(state, self.w)\r\n",
    "        return np.exp(x)/sum(np.exp(x))\r\n",
    "    \r\n",
    "    def act(self, state):\r\n",
    "        probs = self.forward(state)\r\n",
    "        #action = np.random.choice(2, p=probs) # option 1: stochastic policy\r\n",
    "        action = np.argmax(probs)              # option 2: deterministic policy\r\n",
    "        return action"
   ],
   "outputs": [
    {
     "output_type": "stream",
     "name": "stdout",
     "text": [
      "observation space: Box(-3.4028234663852886e+38, 3.4028234663852886e+38, (4,), float32)\n",
      "action space: Discrete(2)\n"
     ]
    }
   ],
   "metadata": {}
  },
  {
   "cell_type": "markdown",
   "source": [
    "### 3. Train the Agent with Stochastic Policy Search"
   ],
   "metadata": {}
  },
  {
   "cell_type": "code",
   "execution_count": 3,
   "source": [
    "env = gym.make('CartPole-v0')\r\n",
    "env.seed(0)\r\n",
    "np.random.seed(0)\r\n",
    "\r\n",
    "policy = Policy()\r\n",
    "\r\n",
    "def hill_climbing(n_episodes=1000, max_t=1000, gamma=1.0, print_every=100, noise_scale=1e-2):\r\n",
    "    \"\"\"Implementation of hill climbing with adaptive noise scaling.\r\n",
    "        \r\n",
    "    Params\r\n",
    "    ======\r\n",
    "        n_episodes (int): maximum number of training episodes\r\n",
    "        max_t (int): maximum number of timesteps per episode\r\n",
    "        gamma (float): discount rate\r\n",
    "        print_every (int): how often to print average score (over last 100 episodes)\r\n",
    "        noise_scale (float): standard deviation of additive noise\r\n",
    "    \"\"\"\r\n",
    "    scores_deque = deque(maxlen=100)\r\n",
    "    scores = []\r\n",
    "    best_R = -np.Inf\r\n",
    "    best_w = policy.w\r\n",
    "    for i_episode in range(1, n_episodes+1):\r\n",
    "        rewards = []\r\n",
    "        state = env.reset()\r\n",
    "        for t in range(max_t):\r\n",
    "            action = policy.act(state)\r\n",
    "            state, reward, done, _ = env.step(action)\r\n",
    "            rewards.append(reward)\r\n",
    "            if done:\r\n",
    "                break \r\n",
    "        scores_deque.append(sum(rewards))\r\n",
    "        scores.append(sum(rewards))\r\n",
    "\r\n",
    "        discounts = [gamma**i for i in range(len(rewards)+1)]\r\n",
    "        R = sum([a*b for a,b in zip(discounts, rewards)])\r\n",
    "\r\n",
    "        if R >= best_R: # found better weights\r\n",
    "            best_R = R\r\n",
    "            best_w = policy.w\r\n",
    "            noise_scale = max(1e-3, noise_scale / 2)\r\n",
    "            policy.w += noise_scale * np.random.rand(*policy.w.shape) \r\n",
    "        else: # did not find better weights\r\n",
    "            noise_scale = min(2, noise_scale * 2)\r\n",
    "            policy.w = best_w + noise_scale * np.random.rand(*policy.w.shape)\r\n",
    "\r\n",
    "        if i_episode % print_every == 0:\r\n",
    "            print('Episode {}\\tAverage Score: {:.2f}'.format(i_episode, np.mean(scores_deque)))\r\n",
    "        if np.mean(scores_deque)>=195.0:\r\n",
    "            print('Environment solved in {:d} episodes!\\tAverage Score: {:.2f}'.format(i_episode-100, np.mean(scores_deque)))\r\n",
    "            policy.w = best_w\r\n",
    "            break\r\n",
    "        \r\n",
    "    return scores\r\n",
    "            \r\n",
    "scores = hill_climbing()"
   ],
   "outputs": [
    {
     "output_type": "stream",
     "name": "stdout",
     "text": [
      "Episode 100\tAverage Score: 175.24\n",
      "Environment solved in 13 episodes!\tAverage Score: 196.21\n"
     ]
    }
   ],
   "metadata": {}
  },
  {
   "cell_type": "markdown",
   "source": [
    "### 4. Plot the Scores"
   ],
   "metadata": {}
  },
  {
   "cell_type": "code",
   "execution_count": 4,
   "source": [
    "fig = plt.figure()\r\n",
    "ax = fig.add_subplot(111)\r\n",
    "plt.plot(np.arange(1, len(scores)+1), scores)\r\n",
    "plt.ylabel('Score')\r\n",
    "plt.xlabel('Episode #')\r\n",
    "plt.show()"
   ],
   "outputs": [
    {
     "output_type": "display_data",
     "data": {
      "text/plain": [
       "<Figure size 432x288 with 1 Axes>"
      ],
      "image/png": "[encoded data removed]"
     },
     "metadata": {
      "needs_background": "light"
     }
    }
   ],
   "metadata": {}
  },
  {
   "cell_type": "markdown",
   "source": [
    "### 5. Watch a Smart Agent!"
   ],
   "metadata": {}
  },
  {
   "cell_type": "code",
   "execution_count": 5,
   "source": [
    "from IPython import display"
   ],
   "outputs": [],
   "metadata": {}
  },
  {
   "cell_type": "code",
   "execution_count": 6,
   "source": [
    "env = gym.make('CartPole-v0')\r\n",
    "state = env.reset()\r\n",
    "\r\n",
    "img = plt.imshow(env.render(mode='rgb_array'))\r\n",
    "\r\n",
    "for t in range(200):\r\n",
    "    action = policy.act(state)\r\n",
    "\r\n",
    "    # normal render method\r\n",
    "    # env.render()\r\n",
    "\r\n",
    "    # alternative, continuous updates\r\n",
    "    img.set_data(env.render(mode='rgb_array')) # just update the data\r\n",
    "    display.display(plt.gcf())\r\n",
    "    display.clear_output(wait=True)\r\n",
    "\r\n",
    "    state, reward, done, _ = env.step(action)\r\n",
    "    if done:\r\n",
    "        break \r\n",
    "\r\n",
    "env.close()"
   ],
   "outputs": [
    {
     "output_type": "display_data",
     "data": {
      "text/plain": [
       "<Figure size 432x288 with 1 Axes>"
      ],
      "image/png": "[encoded data removed]"
     },
     "metadata": {
      "needs_background": "light"
     }
    }
   ],
   "metadata": {}
  },
  {
   "cell_type": "code",
   "execution_count": null,
   "source": [],
   "outputs": [],
   "metadata": {}
  }
 ],
 "metadata": {
  "anaconda-cloud": {},
  "kernelspec": {
   "name": "python3",
   "display_name": "Python 3.6.13 64-bit ('drlnd': conda)"
  },
  "language_info": {
   "codemirror_mode": {
    "name": "ipython",
    "version": 3
   },
   "file_extension": ".py",
   "mimetype": "text/x-python",
   "name": "python",
   "nbconvert_exporter": "python",
   "pygments_lexer": "ipython3",
   "version": "3.6.13"
  },
  "interpreter": {
   "hash": "e0c06fcd412abf53dd202573242a60602a6df9c3fc86f2fac53b63583b367cbb"
  }
 },
 "nbformat": 4,
 "nbformat_minor": 2
}