{
 "cells": [
  {
   "cell_type": "markdown",
   "source": [
    "# Cross-Entropy Method\n",
    "\n",
    "---\n",
    "\n",
    "In this notebook, we will train the Cross-Entropy Method with OpenAI Gym's MountainCarContinuous environment."
   ],
   "metadata": {}
  },
  {
   "cell_type": "markdown",
   "source": [
    "### 1. Import the Necessary Packages"
   ],
   "metadata": {}
  },
  {
   "cell_type": "code",
   "execution_count": 1,
   "source": [
    "import gym\r\n",
    "import math\r\n",
    "import numpy as np\r\n",
    "from collections import deque\r\n",
    "import matplotlib.pyplot as plt\r\n",
    "%matplotlib inline\r\n",
    "\r\n",
    "import torch\r\n",
    "import torch.nn as nn\r\n",
    "import torch.nn.functional as F\r\n",
    "from torch.autograd import Variable"
   ],
   "outputs": [],
   "metadata": {}
  },
  {
   "cell_type": "markdown",
   "source": [
    "### 2. Instantiate the Environment and Agent"
   ],
   "metadata": {}
  },
  {
   "cell_type": "code",
   "execution_count": 2,
   "source": [
    "device = torch.device(\"cuda:0\" if torch.cuda.is_available() else \"cpu\")\r\n",
    "\r\n",
    "env = gym.make('MountainCarContinuous-v0')\r\n",
    "env.seed(101)\r\n",
    "np.random.seed(101)\r\n",
    "\r\n",
    "print('observation space:', env.observation_space)\r\n",
    "print('action space:', env.action_space)\r\n",
    "print('  - low:', env.action_space.low)\r\n",
    "print('  - high:', env.action_space.high)\r\n",
    "\r\n",
    "class Agent(nn.Module):\r\n",
    "    def __init__(self, env, h_size=16):\r\n",
    "        super(Agent, self).__init__()\r\n",
    "        self.env = env\r\n",
    "        # state, hidden layer, action sizes\r\n",
    "        self.s_size = env.observation_space.shape[0]\r\n",
    "        self.h_size = h_size\r\n",
    "        self.a_size = env.action_space.shape[0]\r\n",
    "        # define layers\r\n",
    "        self.fc1 = nn.Linear(self.s_size, self.h_size)\r\n",
    "        self.fc2 = nn.Linear(self.h_size, self.a_size)\r\n",
    "        \r\n",
    "    def set_weights(self, weights):\r\n",
    "        s_size = self.s_size\r\n",
    "        h_size = self.h_size\r\n",
    "        a_size = self.a_size\r\n",
    "        # separate the weights for each layer\r\n",
    "        fc1_end = (s_size*h_size)+h_size\r\n",
    "        fc1_W = torch.from_numpy(weights[:s_size*h_size].reshape(s_size, h_size))\r\n",
    "        fc1_b = torch.from_numpy(weights[s_size*h_size:fc1_end])\r\n",
    "        fc2_W = torch.from_numpy(weights[fc1_end:fc1_end+(h_size*a_size)].reshape(h_size, a_size))\r\n",
    "        fc2_b = torch.from_numpy(weights[fc1_end+(h_size*a_size):])\r\n",
    "        # set the weights for each layer\r\n",
    "        self.fc1.weight.data.copy_(fc1_W.view_as(self.fc1.weight.data))\r\n",
    "        self.fc1.bias.data.copy_(fc1_b.view_as(self.fc1.bias.data))\r\n",
    "        self.fc2.weight.data.copy_(fc2_W.view_as(self.fc2.weight.data))\r\n",
    "        self.fc2.bias.data.copy_(fc2_b.view_as(self.fc2.bias.data))\r\n",
    "    \r\n",
    "    def get_weights_dim(self):\r\n",
    "        return (self.s_size+1)*self.h_size + (self.h_size+1)*self.a_size\r\n",
    "        \r\n",
    "    def forward(self, x):\r\n",
    "        x = F.relu(self.fc1(x))\r\n",
    "        x = F.tanh(self.fc2(x))\r\n",
    "        return x.cpu().data\r\n",
    "        \r\n",
    "    def evaluate(self, weights, gamma=1.0, max_t=5000):\r\n",
    "        self.set_weights(weights)\r\n",
    "        episode_return = 0.0\r\n",
    "        state = self.env.reset()\r\n",
    "        for t in range(max_t):\r\n",
    "            state = torch.from_numpy(state).float().to(device)\r\n",
    "            action = self.forward(state)\r\n",
    "            state, reward, done, _ = self.env.step(action)\r\n",
    "            episode_return += reward * math.pow(gamma, t)\r\n",
    "            if done:\r\n",
    "                break\r\n",
    "        return episode_return\r\n",
    "    \r\n",
    "agent = Agent(env).to(device)"
   ],
   "outputs": [
    {
     "output_type": "stream",
     "name": "stdout",
     "text": [
      "observation space: Box(-1.2000000476837158, 0.6000000238418579, (2,), float32)\n",
      "action space: Box(-1.0, 1.0, (1,), float32)\n",
      "  - low: [-1.]\n",
      "  - high: [1.]\n"
     ]
    }
   ],
   "metadata": {}
  },
  {
   "cell_type": "markdown",
   "source": [
    "### 3. Train the Agent with the Cross-Entropy Method\n",
    "\n",
    "Run the code cell below to train the agent from scratch.  Alternatively, you can skip to the next code cell to load the pre-trained weights from file."
   ],
   "metadata": {}
  },
  {
   "cell_type": "code",
   "execution_count": 3,
   "source": [
    "def cem(n_iterations=500, max_t=1000, gamma=1.0, print_every=10, pop_size=50, elite_frac=0.2, sigma=0.5):\r\n",
    "    \"\"\"PyTorch implementation of the cross-entropy method.\r\n",
    "        \r\n",
    "    Params\r\n",
    "    ======\r\n",
    "        n_iterations (int): maximum number of training iterations\r\n",
    "        max_t (int): maximum number of timesteps per episode\r\n",
    "        gamma (float): discount rate\r\n",
    "        print_every (int): how often to print average score (over last 100 episodes)\r\n",
    "        pop_size (int): size of population at each iteration\r\n",
    "        elite_frac (float): percentage of top performers to use in update\r\n",
    "        sigma (float): standard deviation of additive noise\r\n",
    "    \"\"\"\r\n",
    "    n_elite=int(pop_size*elite_frac)\r\n",
    "\r\n",
    "    scores_deque = deque(maxlen=100)\r\n",
    "    scores = []\r\n",
    "    best_weight = sigma*np.random.randn(agent.get_weights_dim())\r\n",
    "\r\n",
    "    for i_iteration in range(1, n_iterations+1):\r\n",
    "        weights_pop = [best_weight + (sigma*np.random.randn(agent.get_weights_dim())) for i in range(pop_size)]\r\n",
    "        rewards = np.array([agent.evaluate(weights, gamma, max_t) for weights in weights_pop])\r\n",
    "\r\n",
    "        elite_idxs = rewards.argsort()[-n_elite:]\r\n",
    "        elite_weights = [weights_pop[i] for i in elite_idxs]\r\n",
    "        best_weight = np.array(elite_weights).mean(axis=0)\r\n",
    "\r\n",
    "        reward = agent.evaluate(best_weight, gamma=1.0)\r\n",
    "        scores_deque.append(reward)\r\n",
    "        scores.append(reward)\r\n",
    "        \r\n",
    "        torch.save(agent.state_dict(), 'checkpoint.pth')\r\n",
    "        \r\n",
    "        if i_iteration % print_every == 0:\r\n",
    "            print('Episode {}\\tAverage Score: {:.2f}'.format(i_iteration, np.mean(scores_deque)))\r\n",
    "\r\n",
    "        if np.mean(scores_deque)>=90.0:\r\n",
    "            print('\\nEnvironment solved in {:d} iterations!\\tAverage Score: {:.2f}'.format(i_iteration-100, np.mean(scores_deque)))\r\n",
    "            break\r\n",
    "    return scores\r\n",
    "\r\n",
    "scores = cem()\r\n",
    "\r\n",
    "# plot the scores\r\n",
    "fig = plt.figure()\r\n",
    "ax = fig.add_subplot(111)\r\n",
    "plt.plot(np.arange(1, len(scores)+1), scores)\r\n",
    "plt.ylabel('Score')\r\n",
    "plt.xlabel('Episode #')\r\n",
    "plt.show()"
   ],
   "outputs": [
    {
     "output_type": "stream",
     "name": "stdout",
     "text": [
      "Episode 10\tAverage Score: -1.44\n",
      "Episode 20\tAverage Score: -3.98\n",
      "Episode 30\tAverage Score: -4.18\n",
      "Episode 40\tAverage Score: 2.57\n",
      "Episode 50\tAverage Score: 18.74\n",
      "Episode 60\tAverage Score: 29.35\n",
      "Episode 70\tAverage Score: 38.69\n",
      "Episode 80\tAverage Score: 45.65\n",
      "Episode 90\tAverage Score: 47.98\n",
      "Episode 100\tAverage Score: 52.56\n",
      "Episode 110\tAverage Score: 62.09\n",
      "Episode 120\tAverage Score: 72.28\n",
      "Episode 130\tAverage Score: 82.21\n",
      "Episode 140\tAverage Score: 89.48\n",
      "\n",
      "Environment solved in 47 iterations!\tAverage Score: 90.83\n"
     ]
    },
    {
     "output_type": "display_data",
     "data": {
      "text/plain": [
       "<Figure size 432x288 with 1 Axes>"
      ],
      "image/png": "[encoded data removed]"
     },
     "metadata": {
      "needs_background": "light"
     }
    }
   ],
   "metadata": {}
  },
  {
   "cell_type": "markdown",
   "source": [
    "### 4. Watch a Smart Agent!\n",
    "\n",
    "In the next code cell, you will load the trained weights from file to watch a smart agent!"
   ],
   "metadata": {}
  },
  {
   "cell_type": "code",
   "execution_count": 9,
   "source": [
    "from IPython import display"
   ],
   "outputs": [],
   "metadata": {}
  },
  {
   "cell_type": "code",
   "execution_count": 13,
   "source": [
    "# load the weights from file\r\n",
    "agent.load_state_dict(torch.load('checkpoint.pth'))\r\n",
    "\r\n",
    "state = env.reset()\r\n",
    "img = plt.imshow(env.render(mode='rgb_array'))\r\n",
    "\r\n",
    "while True:\r\n",
    "    state = torch.from_numpy(state).float().to(device)\r\n",
    "    with torch.no_grad():\r\n",
    "        action = agent(state)\r\n",
    "\r\n",
    "    # normal render method\r\n",
    "    # env.render()\r\n",
    "\r\n",
    "    # alternative, continuous updates\r\n",
    "    img.set_data(env.render(mode='rgb_array')) # just update the data\r\n",
    "    display.display(plt.gcf())\r\n",
    "    display.clear_output(wait=True)\r\n",
    "\r\n",
    "    next_state, reward, done, _ = env.step(action)\r\n",
    "    state = next_state\r\n",
    "    if done:\r\n",
    "        break"
   ],
   "outputs": [
    {
     "output_type": "display_data",
     "data": {
      "text/plain": [
       "<Figure size 432x288 with 1 Axes>"
      ],
      "image/png": "[encoded data removed]"
     },
     "metadata": {
      "needs_background": "light"
     }
    }
   ],
   "metadata": {}
  },
  {
   "cell_type": "code",
   "execution_count": 14,
   "source": [
    "env.close()"
   ],
   "outputs": [],
   "metadata": {}
  }
 ],
 "metadata": {
  "anaconda-cloud": {},
  "kernelspec": {
   "name": "python3",
   "display_name": "Python 3.6.13 64-bit ('drlnd': conda)"
  },
  "language_info": {
   "codemirror_mode": {
    "name": "ipython",
    "version": 3
   },
   "file_extension": ".py",
   "mimetype": "text/x-python",
   "name": "python",
   "nbconvert_exporter": "python",
   "pygments_lexer": "ipython3",
   "version": "3.6.13"
  },
  "interpreter": {
   "hash": "e0c06fcd412abf53dd202573242a60602a6df9c3fc86f2fac53b63583b367cbb"
  }
 },
 "nbformat": 4,
 "nbformat_minor": 2
}