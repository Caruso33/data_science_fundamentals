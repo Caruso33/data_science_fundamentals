{
 "cells": [
  {
   "cell_type": "markdown",
   "metadata": {},
   "source": [
    "## Working with csvs in different ways"
   ]
  },
  {
   "cell_type": "code",
   "execution_count": 37,
   "metadata": {},
   "outputs": [
    {
     "data": {
      "text/plain": [
       "[{'Title': 'Please Please Me',\n",
       "  'Released': '22 March 1963',\n",
       "  'Label': 'Parlophone(UK)',\n",
       "  'UK Chart Position': '1',\n",
       "  'US Chart Position': '-',\n",
       "  'BPI Certification': 'Gold',\n",
       "  'RIAA Certification\\n': 'Platinum'},\n",
       " {'Title': 'With the Beatles',\n",
       "  'Released': '22 November 1963',\n",
       "  'Label': 'Parlophone(UK)',\n",
       "  'UK Chart Position': '1',\n",
       "  'US Chart Position': '-',\n",
       "  'BPI Certification': 'Platinum',\n",
       "  'RIAA Certification\\n': 'Gold'},\n",
       " {'Title': 'Beatlemania! With the Beatles',\n",
       "  'Released': '25 November 1963',\n",
       "  'Label': 'Capitol(CAN)',\n",
       "  'UK Chart Position': '-',\n",
       "  'US Chart Position': '-',\n",
       "  'BPI Certification': '',\n",
       "  'RIAA Certification\\n': ''}]"
      ]
     },
     "execution_count": 37,
     "metadata": {},
     "output_type": "execute_result"
    }
   ],
   "source": [
    "import csv\n",
    "\n",
    "csv_file = '3_beatles-discography.csv'\n",
    "\n",
    "def parse_file(data_file):\n",
    "    data = []\n",
    "    \n",
    "    with open(data_file) as csvDataFile:        \n",
    "\n",
    "        header = csvDataFile.readline().split(',')\n",
    "        counter = 0\n",
    "        \n",
    "        for line in csvDataFile:\n",
    "            \n",
    "            if counter >= 3: break\n",
    "            \n",
    "            counter += 1\n",
    "            fields = line.split(',')\n",
    "            entry = {}\n",
    "\n",
    "            for i, value in enumerate(fields):\n",
    "                entry[header[i]] = value.strip() # get rid of whitespace\n",
    "\n",
    "            data.append(entry)\n",
    "    return data\n",
    "            \n",
    "parse_file(csv_file)"
   ]
  },
  {
   "cell_type": "code",
   "execution_count": 43,
   "metadata": {},
   "outputs": [
    {
     "data": {
      "text/plain": [
       "[OrderedDict([('Title', 'Please Please Me'),\n",
       "              ('Released', '22 March 1963'),\n",
       "              ('Label', 'Parlophone(UK)'),\n",
       "              ('UK Chart Position', '1'),\n",
       "              ('US Chart Position', '-'),\n",
       "              ('BPI Certification', 'Gold'),\n",
       "              ('RIAA Certification', 'Platinum')]),\n",
       " OrderedDict([('Title', 'With the Beatles'),\n",
       "              ('Released', '22 November 1963'),\n",
       "              ('Label', 'Parlophone(UK)'),\n",
       "              ('UK Chart Position', '1'),\n",
       "              ('US Chart Position', '-'),\n",
       "              ('BPI Certification', 'Platinum'),\n",
       "              ('RIAA Certification', 'Gold')]),\n",
       " OrderedDict([('Title', 'Beatlemania! With the Beatles'),\n",
       "              ('Released', '25 November 1963'),\n",
       "              ('Label', 'Capitol(CAN)'),\n",
       "              ('UK Chart Position', '-'),\n",
       "              ('US Chart Position', '-'),\n",
       "              ('BPI Certification', ''),\n",
       "              ('RIAA Certification', '')])]"
      ]
     },
     "execution_count": 43,
     "metadata": {},
     "output_type": "execute_result"
    }
   ],
   "source": [
    "def parse_csv(datafile):\n",
    "    data = []\n",
    "    n = 0\n",
    "    \n",
    "    with open(datafile, 'r') as sd:\n",
    "        r = csv.DictReader(sd)\n",
    "        \n",
    "        for line in r:\n",
    "            if(n >= 3): break\n",
    "\n",
    "            n += 1\n",
    "            data.append(line)\n",
    "        return data\n",
    "    \n",
    "parse_csv(csv_file)"
   ]
  },
  {
   "cell_type": "code",
   "execution_count": null,
   "metadata": {},
   "outputs": [],
   "source": []
  }
 ],
 "metadata": {
  "kernelspec": {
   "display_name": "Python 3",
   "language": "python",
   "name": "python3"
  },
  "language_info": {
   "codemirror_mode": {
    "name": "ipython",
    "version": 3
   },
   "file_extension": ".py",
   "mimetype": "text/x-python",
   "name": "python",
   "nbconvert_exporter": "python",
   "pygments_lexer": "ipython3",
   "version": "3.7.4"
  }
 },
 "nbformat": 4,
 "nbformat_minor": 4
}
