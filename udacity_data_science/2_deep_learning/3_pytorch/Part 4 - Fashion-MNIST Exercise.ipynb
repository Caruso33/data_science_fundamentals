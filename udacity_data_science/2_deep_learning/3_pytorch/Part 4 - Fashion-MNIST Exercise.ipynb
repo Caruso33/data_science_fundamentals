{
 "cells": [
  {
   "cell_type": "markdown",
   "metadata": {},
   "source": [
    "# Classifying Fashion-MNIST\n",
    "\n",
    "Now it's your turn to build and train a neural network. You'll be using the [Fashion-MNIST dataset](https://github.com/zalandoresearch/fashion-mnist), a drop-in replacement for the MNIST dataset. MNIST is actually quite trivial with neural networks where you can easily achieve better than 97% accuracy. Fashion-MNIST is a set of 28x28 greyscale images of clothes. It's more complex than MNIST, so it's a better representation of the actual performance of your network, and a better representation of datasets you'll use in the real world.\n",
    "\n",
    "<img src='assets/fashion-mnist-sprite.png' width=500px>\n",
    "\n",
    "In this notebook, you'll build your own neural network. For the most part, you could just copy and paste the code from Part 3, but you wouldn't be learning. It's important for you to write the code yourself and get it to work. Feel free to consult the previous notebook though as you work through this.\n",
    "\n",
    "First off, let's load the dataset through torchvision."
   ]
  },
  {
   "cell_type": "code",
   "execution_count": 1,
   "metadata": {},
   "outputs": [
    {
     "name": "stdout",
     "output_type": "stream",
     "text": [
      "Downloading http://fashion-mnist.s3-website.eu-central-1.amazonaws.com/train-images-idx3-ubyte.gz\n",
      "Downloading http://fashion-mnist.s3-website.eu-central-1.amazonaws.com/train-labels-idx1-ubyte.gz\n",
      "Downloading http://fashion-mnist.s3-website.eu-central-1.amazonaws.com/t10k-images-idx3-ubyte.gz\n",
      "Downloading http://fashion-mnist.s3-website.eu-central-1.amazonaws.com/t10k-labels-idx1-ubyte.gz\n",
      "Processing...\n",
      "Done!\n"
     ]
    }
   ],
   "source": [
    "import torch\n",
    "from torchvision import datasets, transforms\n",
    "import helper\n",
    "\n",
    "# Define a transform to normalize the data\n",
    "transform = transforms.Compose([transforms.ToTensor(),\n",
    "                                transforms.Normalize((0.5, 0.5, 0.5), (0.5, 0.5, 0.5))])\n",
    "# Download and load the training data\n",
    "trainset = datasets.FashionMNIST('F_MNIST_data/', download=True, train=True, transform=transform)\n",
    "trainloader = torch.utils.data.DataLoader(trainset, batch_size=64, shuffle=True)\n",
    "\n",
    "# Download and load the test data\n",
    "testset = datasets.FashionMNIST('F_MNIST_data/', download=True, train=False, transform=transform)\n",
    "testloader = torch.utils.data.DataLoader(testset, batch_size=64, shuffle=True)"
   ]
  },
  {
   "cell_type": "markdown",
   "metadata": {},
   "source": [
    "Here we can see one of the images."
   ]
  },
  {
   "cell_type": "code",
   "execution_count": 2,
   "metadata": {},
   "outputs": [
    {
     "data": {
      "image/png": "[encoded data removed]",
      "text/plain": [
       "<Figure size 432x288 with 1 Axes>"
      ]
     },
     "metadata": {
      "needs_background": "light"
     },
     "output_type": "display_data"
    }
   ],
   "source": [
    "image, label = next(iter(trainloader))\n",
    "helper.imshow(image[0,:]);"
   ]
  },
  {
   "cell_type": "markdown",
   "metadata": {},
   "source": [
    "With the data loaded, it's time to import the necessary packages."
   ]
  },
  {
   "cell_type": "code",
   "execution_count": 3,
   "metadata": {},
   "outputs": [],
   "source": [
    "%matplotlib inline\n",
    "%config InlineBackend.figure_format = 'retina'\n",
    "\n",
    "import matplotlib.pyplot as plt\n",
    "import numpy as np\n",
    "import time\n",
    "\n",
    "import torch\n",
    "from torch import nn\n",
    "from torch import optim\n",
    "import torch.nn.functional as F\n",
    "from torchvision import datasets, transforms\n",
    "\n",
    "import helper"
   ]
  },
  {
   "cell_type": "markdown",
   "metadata": {},
   "source": [
    "## Building the network\n",
    "\n",
    "Here you should define your network. As with MNIST, each image is 28x28 which is a total of 784 pixels, and there are 10 classes. You should include at least one hidden layer. We suggest you use ReLU activations for the layers and to return the logits from the forward pass. It's up to you how many layers you add and the size of those layers."
   ]
  },
  {
   "cell_type": "code",
   "execution_count": 17,
   "metadata": {},
   "outputs": [
    {
     "name": "stdout",
     "output_type": "stream",
     "text": [
      "Sequential(\n",
      "  (0): Linear(in_features=784, out_features=516, bias=True)\n",
      "  (1): ReLU()\n",
      "  (2): Linear(in_features=516, out_features=256, bias=True)\n",
      "  (3): ReLU()\n",
      "  (4): Linear(in_features=256, out_features=10, bias=True)\n",
      "  (5): Softmax()\n",
      ")\n"
     ]
    },
    {
     "data": {
      "image/png": "[encoded data removed]",
      "text/plain": [
       "<Figure size 432x648 with 2 Axes>"
      ]
     },
     "metadata": {
      "image/png": {
       "height": 235,
       "width": 424
      },
      "needs_background": "light"
     },
     "output_type": "display_data"
    }
   ],
   "source": [
    "# TODO: Define your network architecture here\n",
    "# Hyperparameters for our network\n",
    "input_size = 784\n",
    "hidden_sizes = [516, 256]\n",
    "output_size = 10\n",
    "\n",
    "# Build a feed-forward network\n",
    "model = nn.Sequential(nn.Linear(input_size, hidden_sizes[0]),\n",
    "                      nn.ReLU(),\n",
    "                      nn.Linear(hidden_sizes[0], hidden_sizes[1]),\n",
    "                      nn.ReLU(),\n",
    "                      nn.Linear(hidden_sizes[1], output_size),\n",
    "                      nn.Softmax(dim=1))\n",
    "print(model)\n",
    "\n",
    "# Forward pass through the network and display output\n",
    "images, labels = next(iter(trainloader))\n",
    "images.resize_(images.shape[0], 1, 784)\n",
    "ps = model.forward(images[0,:])\n",
    "helper.view_classify(images[0].view(1, 28, 28), ps)"
   ]
  },
  {
   "cell_type": "markdown",
   "metadata": {},
   "source": [
    "# Train the network\n",
    "\n",
    "Now you should create your network and train it. First you'll want to define [the criterion](http://pytorch.org/docs/master/nn.html#loss-functions) ( something like `nn.CrossEntropyLoss`) and [the optimizer](http://pytorch.org/docs/master/optim.html) (typically `optim.SGD` or `optim.Adam`).\n",
    "\n",
    "Then write the training code. Remember the training pass is a fairly straightforward process:\n",
    "\n",
    "* Make a forward pass through the network to get the logits \n",
    "* Use the logits to calculate the loss\n",
    "* Perform a backward pass through the network with `loss.backward()` to calculate the gradients\n",
    "* Take a step with the optimizer to update the weights\n",
    "\n",
    "By adjusting the hyperparameters (hidden units, learning rate, etc), you should be able to get the training loss below 0.4."
   ]
  },
  {
   "cell_type": "code",
   "execution_count": 18,
   "metadata": {},
   "outputs": [],
   "source": [
    "# TODO: Create the network, define the criterion and optimizer\n",
    "criterion = nn.CrossEntropyLoss()\n",
    "optimizer = optim.SGD(model.parameters(), lr=0.01)"
   ]
  },
  {
   "cell_type": "code",
   "execution_count": 19,
   "metadata": {
    "scrolled": true
   },
   "outputs": [
    {
     "name": "stdout",
     "output_type": "stream",
     "text": [
      "Epoch: 1/3...  Loss: 2.3023\n",
      "Epoch: 1/3...  Loss: 2.3000\n",
      "Epoch: 1/3...  Loss: 2.2981\n",
      "Epoch: 1/3...  Loss: 2.2959\n",
      "Epoch: 1/3...  Loss: 2.2940\n",
      "Epoch: 1/3...  Loss: 2.2907\n",
      "Epoch: 1/3...  Loss: 2.2875\n",
      "Epoch: 1/3...  Loss: 2.2844\n",
      "Epoch: 1/3...  Loss: 2.2799\n",
      "Epoch: 1/3...  Loss: 2.2759\n",
      "Epoch: 1/3...  Loss: 2.2663\n",
      "Epoch: 1/3...  Loss: 2.2607\n",
      "Epoch: 1/3...  Loss: 2.2521\n",
      "Epoch: 1/3...  Loss: 2.2414\n",
      "Epoch: 1/3...  Loss: 2.2220\n",
      "Epoch: 1/3...  Loss: 2.2023\n",
      "Epoch: 1/3...  Loss: 2.1974\n",
      "Epoch: 1/3...  Loss: 2.1671\n",
      "Epoch: 1/3...  Loss: 2.1469\n",
      "Epoch: 1/3...  Loss: 2.1347\n",
      "Epoch: 1/3...  Loss: 2.1277\n",
      "Epoch: 1/3...  Loss: 2.1098\n",
      "Epoch: 1/3...  Loss: 2.1223\n",
      "Epoch: 2/3...  Loss: 1.1547\n",
      "Epoch: 2/3...  Loss: 2.0873\n",
      "Epoch: 2/3...  Loss: 2.0722\n",
      "Epoch: 2/3...  Loss: 2.0714\n",
      "Epoch: 2/3...  Loss: 2.0685\n",
      "Epoch: 2/3...  Loss: 2.0506\n",
      "Epoch: 2/3...  Loss: 2.0232\n",
      "Epoch: 2/3...  Loss: 2.0205\n",
      "Epoch: 2/3...  Loss: 2.0201\n",
      "Epoch: 2/3...  Loss: 2.0033\n",
      "Epoch: 2/3...  Loss: 1.9816\n",
      "Epoch: 2/3...  Loss: 1.9713\n",
      "Epoch: 2/3...  Loss: 1.9564\n",
      "Epoch: 2/3...  Loss: 1.9440\n",
      "Epoch: 2/3...  Loss: 1.9351\n",
      "Epoch: 2/3...  Loss: 1.9221\n",
      "Epoch: 2/3...  Loss: 1.9080\n",
      "Epoch: 2/3...  Loss: 1.8858\n",
      "Epoch: 2/3...  Loss: 1.8859\n",
      "Epoch: 2/3...  Loss: 1.8705\n",
      "Epoch: 2/3...  Loss: 1.8582\n",
      "Epoch: 2/3...  Loss: 1.8591\n",
      "Epoch: 2/3...  Loss: 1.8458\n",
      "Epoch: 3/3...  Loss: 0.1828\n",
      "Epoch: 3/3...  Loss: 1.8290\n",
      "Epoch: 3/3...  Loss: 1.8229\n",
      "Epoch: 3/3...  Loss: 1.8292\n",
      "Epoch: 3/3...  Loss: 1.8135\n",
      "Epoch: 3/3...  Loss: 1.8164\n",
      "Epoch: 3/3...  Loss: 1.7921\n",
      "Epoch: 3/3...  Loss: 1.7893\n",
      "Epoch: 3/3...  Loss: 1.7941\n",
      "Epoch: 3/3...  Loss: 1.7849\n",
      "Epoch: 3/3...  Loss: 1.7794\n",
      "Epoch: 3/3...  Loss: 1.7652\n",
      "Epoch: 3/3...  Loss: 1.7733\n",
      "Epoch: 3/3...  Loss: 1.7732\n",
      "Epoch: 3/3...  Loss: 1.7690\n",
      "Epoch: 3/3...  Loss: 1.7606\n",
      "Epoch: 3/3...  Loss: 1.7644\n",
      "Epoch: 3/3...  Loss: 1.7603\n",
      "Epoch: 3/3...  Loss: 1.7630\n",
      "Epoch: 3/3...  Loss: 1.7479\n",
      "Epoch: 3/3...  Loss: 1.7457\n",
      "Epoch: 3/3...  Loss: 1.7459\n",
      "Epoch: 3/3...  Loss: 1.7435\n",
      "Epoch: 3/3...  Loss: 1.7493\n"
     ]
    }
   ],
   "source": [
    "# TODO: Train the network here\n",
    "epochs = 3\n",
    "print_every = 40\n",
    "steps = 0\n",
    "for e in range(epochs):\n",
    "    running_loss = 0\n",
    "    for images, labels in iter(trainloader):\n",
    "        steps += 1\n",
    "        # Flatten MNIST images into a 784 long vector\n",
    "        images.resize_(images.size()[0], 784)\n",
    "        \n",
    "        optimizer.zero_grad()\n",
    "        \n",
    "        # Forward and backward passes\n",
    "        output = model.forward(images)\n",
    "        loss = criterion(output, labels)\n",
    "        loss.backward()\n",
    "        optimizer.step()\n",
    "        \n",
    "        running_loss += loss.item()\n",
    "        \n",
    "        if steps % print_every == 0:\n",
    "            print(\"Epoch: {}/{}... \".format(e+1, epochs),\n",
    "                  \"Loss: {:.4f}\".format(running_loss/print_every))\n",
    "            \n",
    "            running_loss = 0"
   ]
  },
  {
   "cell_type": "code",
   "execution_count": 20,
   "metadata": {},
   "outputs": [
    {
     "data": {
      "image/png": "[encoded data removed]",
      "text/plain": [
       "<Figure size 432x648 with 2 Axes>"
      ]
     },
     "metadata": {
      "image/png": {
       "height": 216,
       "width": 424
      },
      "needs_background": "light"
     },
     "output_type": "display_data"
    }
   ],
   "source": [
    "# Test out your network!\n",
    "\n",
    "dataiter = iter(testloader)\n",
    "images, labels = dataiter.next()\n",
    "img = images[0]\n",
    "# Convert 2D image to 1D vector\n",
    "img = img.resize_(1, 784)\n",
    "\n",
    "# TODO: Calculate the class probabilities (softmax) for img\n",
    "with torch.no_grad():\n",
    "    output = model.forward(img)\n",
    "\n",
    "ps = torch.exp(output)\n",
    "\n",
    "# Plot the image and probabilities\n",
    "helper.view_classify(img.resize_(1, 28, 28), ps, version='Fashion')"
   ]
  },
  {
   "cell_type": "markdown",
   "metadata": {},
   "source": [
    "Now that your network is trained, you'll want to save it to disk so you can load it later instead of training it again. Obviously, it's impractical to train a network every time you need one. In practice, you'll train it once, save the model, then reload it for further training or making predictions. In the next part, I'll show you how to save and load trained models."
   ]
  }
 ],
 "metadata": {
  "kernelspec": {
   "display_name": "Python 3",
   "language": "python",
   "name": "python3"
  },
  "language_info": {
   "codemirror_mode": {
    "name": "ipython",
    "version": 3
   },
   "file_extension": ".py",
   "mimetype": "text/x-python",
   "name": "python",
   "nbconvert_exporter": "python",
   "pygments_lexer": "ipython3",
   "version": "3.7.5"
  }
 },
 "nbformat": 4,
 "nbformat_minor": 4
}
